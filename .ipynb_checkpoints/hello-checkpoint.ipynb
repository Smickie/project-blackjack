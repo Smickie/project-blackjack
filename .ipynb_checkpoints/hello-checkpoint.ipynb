{
 "cells": [
  {
   "cell_type": "code",
   "execution_count": 1,
   "id": "c02c982f",
   "metadata": {},
   "outputs": [
    {
     "name": "stdout",
     "output_type": "stream",
     "text": [
      "Printing more stuff!\n"
     ]
    }
   ],
   "source": [
    "print(\"Printing more stuff!\")"
   ]
  },
  {
   "cell_type": "code",
   "execution_count": 1,
   "id": "7197d39f",
   "metadata": {},
   "outputs": [],
   "source": [
    "x = \"CHANGE!!!\""
   ]
  },
  {
   "cell_type": "code",
   "execution_count": null,
   "id": "cd5b4682",
   "metadata": {},
   "outputs": [],
   "source": []
  }
 ],
 "metadata": {
  "kernelspec": {
   "display_name": "Python 3 (ipykernel)",
   "language": "python",
   "name": "python3"
  },
  "language_info": {
   "codemirror_mode": {
    "name": "ipython",
    "version": 3
   },
   "file_extension": ".py",
   "mimetype": "text/x-python",
   "name": "python",
   "nbconvert_exporter": "python",
   "pygments_lexer": "ipython3",
   "version": "3.11.4"
  }
 },
 "nbformat": 4,
 "nbformat_minor": 5
}
